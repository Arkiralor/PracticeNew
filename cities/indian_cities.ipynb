{
 "cells": [
  {
   "cell_type": "code",
   "execution_count": 4,
   "metadata": {},
   "outputs": [],
   "source": [
    "from os import path, sep, listdir\n",
    "import pandas as pd\n",
    "import numpy as np"
   ]
  },
  {
   "cell_type": "code",
   "execution_count": 5,
   "metadata": {},
   "outputs": [],
   "source": [
    "names = [\n",
    " 'andamannicobar',\n",
    " 'andhrapradesh',\n",
    " 'arunachalpradesh',\n",
    " 'assam',\n",
    " 'bihar',\n",
    " 'chandigarh',\n",
    " 'chhatissgarh',\n",
    " 'dadranagarhaveli',\n",
    " 'damandiu',\n",
    " 'delhi',\n",
    " 'goa',\n",
    " 'gujarat',\n",
    " 'haryana',\n",
    " 'himachalpradesh',\n",
    " 'jammukashmir',\n",
    " 'jharkhand',\n",
    " 'karnataka',\n",
    " 'kerala',\n",
    " 'lakshadweep',\n",
    " 'madhyapradesh',\n",
    " 'maharashtra',\n",
    " 'manipur',\n",
    " 'meghalaya',\n",
    " 'mizoram',\n",
    " 'nagaland',\n",
    " 'odisha',\n",
    " 'puducherry',\n",
    " 'punjab',\n",
    " 'rajasthan',\n",
    " 'sikkim',\n",
    " 'tamilnadu',\n",
    " 'tripura',\n",
    " 'uttarakhand',\n",
    " 'uttarpradesh',\n",
    " 'westbengal'\n",
    "]\n",
    "file_list = [f\"cleaned{sep}{name}_cleaned.csv\" for name in names]\n",
    "# file_list"
   ]
  },
  {
   "cell_type": "code",
   "execution_count": 6,
   "metadata": {},
   "outputs": [],
   "source": [
    "df = pd.concat(\n",
    "    map(\n",
    "        pd.read_csv, \n",
    "        file_list\n",
    "    ), \n",
    "    ignore_index=True\n",
    ")\n",
    "df.to_csv(\"indian_cities.csv\", index=False)"
   ]
  }
 ],
 "metadata": {
  "kernelspec": {
   "display_name": "Python 3.9.12 ('env': venv)",
   "language": "python",
   "name": "python3"
  },
  "language_info": {
   "codemirror_mode": {
    "name": "ipython",
    "version": 3
   },
   "file_extension": ".py",
   "mimetype": "text/x-python",
   "name": "python",
   "nbconvert_exporter": "python",
   "pygments_lexer": "ipython3",
   "version": "3.9.12"
  },
  "orig_nbformat": 4,
  "vscode": {
   "interpreter": {
    "hash": "cd785afd5d463cf94adeb5b937e52326afa087e74a1865e763876b6f79eb4fc3"
   }
  }
 },
 "nbformat": 4,
 "nbformat_minor": 2
}
