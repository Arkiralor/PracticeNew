{
 "cells": [
  {
   "cell_type": "code",
   "execution_count": null,
   "metadata": {},
   "outputs": [],
   "source": [
    "from os import path, sep, listdir\n",
    "import pandas as pd\n",
    "import numpy as np"
   ]
  },
  {
   "cell_type": "code",
   "execution_count": null,
   "metadata": {},
   "outputs": [],
   "source": [
    "def clean_list(state_name:str=None):\n",
    "    file_path = f\"dataset{sep}{state_name}.csv\"\n",
    "    df = pd.read_csv(file_path)\n",
    "\n",
    "    df = df.drop(\n",
    "        [\n",
    "            # 'Unnamed: 0.1', \n",
    "            'Unnamed: 0',\n",
    "            'ST Code', \n",
    "            'DT Code', \n",
    "            'SDT Code', \n",
    "            'Town Code', \n",
    "            'Area Name'\n",
    "        ], \n",
    "        axis=1\n",
    "    ).drop_duplicates()\n",
    "\n",
    "    df['STATE NAME'] = df['STATE NAME'].str.title()\n",
    "    df['SUB-DISTRICT NAME'] = df['SUB-DISTRICT NAME'].map(lambda x: x.rstrip(' (Pt)'))\n",
    "    df['DISTRICT NAME'] = df['DISTRICT NAME'].str.rstrip()\n",
    "\n",
    "    df.to_csv(f\"cleaned{sep}{state_name}_cleaned.csv\", index=False)"
   ]
  },
  {
   "cell_type": "code",
   "execution_count": null,
   "metadata": {},
   "outputs": [],
   "source": [
    "files = listdir(f\"dataset\")\n",
    "files = [file.rstrip(\".csv\") for file in files]\n",
    "files"
   ]
  },
  {
   "cell_type": "code",
   "execution_count": null,
   "metadata": {},
   "outputs": [],
   "source": [
    "for file in files:\n",
    "    state_name = file\n",
    "    clean_list(state_name=state_name)"
   ]
  },
  {
   "cell_type": "code",
   "execution_count": null,
   "metadata": {},
   "outputs": [],
   "source": [
    "# clean_list(state_name=\"assam\")"
   ]
  }
 ],
 "metadata": {
  "kernelspec": {
   "display_name": "Python 3.9.12 ('env': venv)",
   "language": "python",
   "name": "python3"
  },
  "language_info": {
   "codemirror_mode": {
    "name": "ipython",
    "version": 3
   },
   "file_extension": ".py",
   "mimetype": "text/x-python",
   "name": "python",
   "nbconvert_exporter": "python",
   "pygments_lexer": "ipython3",
   "version": "3.9.12"
  },
  "orig_nbformat": 4,
  "vscode": {
   "interpreter": {
    "hash": "cd785afd5d463cf94adeb5b937e52326afa087e74a1865e763876b6f79eb4fc3"
   }
  }
 },
 "nbformat": 4,
 "nbformat_minor": 2
}
